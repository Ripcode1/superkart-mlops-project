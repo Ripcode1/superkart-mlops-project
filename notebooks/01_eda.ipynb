{
 "cells": [
  {
   "cell_type": "code",
   "execution_count": 3,
   "id": "ab0ddef9",
   "metadata": {},
   "outputs": [
    {
     "name": "stdout",
     "output_type": "stream",
     "text": [
      "Libraries loaded successfully\n"
     ]
    }
   ],
   "source": [
    "# Cell 1: Load libraries\n",
    "import pandas as pd\n",
    "import numpy as np\n",
    "import matplotlib.pyplot as plt\n",
    "import seaborn as sns\n",
    "import warnings\n",
    "warnings.filterwarnings('ignore')\n",
    "\n",
    "print(\"Libraries loaded successfully\")"
   ]
  },
  {
   "cell_type": "code",
   "execution_count": 4,
   "id": "8306393b",
   "metadata": {},
   "outputs": [
    {
     "name": "stdout",
     "output_type": "stream",
     "text": [
      "Data shape: (8763, 12)\n"
     ]
    },
    {
     "data": {
      "text/html": [
       "<div>\n",
       "<style scoped>\n",
       "    .dataframe tbody tr th:only-of-type {\n",
       "        vertical-align: middle;\n",
       "    }\n",
       "\n",
       "    .dataframe tbody tr th {\n",
       "        vertical-align: top;\n",
       "    }\n",
       "\n",
       "    .dataframe thead th {\n",
       "        text-align: right;\n",
       "    }\n",
       "</style>\n",
       "<table border=\"1\" class=\"dataframe\">\n",
       "  <thead>\n",
       "    <tr style=\"text-align: right;\">\n",
       "      <th></th>\n",
       "      <th>Product_Id</th>\n",
       "      <th>Product_Weight</th>\n",
       "      <th>Product_Sugar_Content</th>\n",
       "      <th>Product_Allocated_Area</th>\n",
       "      <th>Product_Type</th>\n",
       "      <th>Product_MRP</th>\n",
       "      <th>Store_Id</th>\n",
       "      <th>Store_Establishment_Year</th>\n",
       "      <th>Store_Size</th>\n",
       "      <th>Store_Location_City_Type</th>\n",
       "      <th>Store_Type</th>\n",
       "      <th>Product_Store_Sales_Total</th>\n",
       "    </tr>\n",
       "  </thead>\n",
       "  <tbody>\n",
       "    <tr>\n",
       "      <th>0</th>\n",
       "      <td>FD6114</td>\n",
       "      <td>12.66</td>\n",
       "      <td>Low Sugar</td>\n",
       "      <td>0.027</td>\n",
       "      <td>Frozen Foods</td>\n",
       "      <td>117.08</td>\n",
       "      <td>OUT004</td>\n",
       "      <td>2009</td>\n",
       "      <td>Medium</td>\n",
       "      <td>Tier 2</td>\n",
       "      <td>Supermarket Type2</td>\n",
       "      <td>2842.40</td>\n",
       "    </tr>\n",
       "    <tr>\n",
       "      <th>1</th>\n",
       "      <td>FD7839</td>\n",
       "      <td>16.54</td>\n",
       "      <td>Low Sugar</td>\n",
       "      <td>0.144</td>\n",
       "      <td>Dairy</td>\n",
       "      <td>171.43</td>\n",
       "      <td>OUT003</td>\n",
       "      <td>1999</td>\n",
       "      <td>Medium</td>\n",
       "      <td>Tier 1</td>\n",
       "      <td>Departmental Store</td>\n",
       "      <td>4830.02</td>\n",
       "    </tr>\n",
       "    <tr>\n",
       "      <th>2</th>\n",
       "      <td>FD5075</td>\n",
       "      <td>14.28</td>\n",
       "      <td>Regular</td>\n",
       "      <td>0.031</td>\n",
       "      <td>Canned</td>\n",
       "      <td>162.08</td>\n",
       "      <td>OUT001</td>\n",
       "      <td>1987</td>\n",
       "      <td>High</td>\n",
       "      <td>Tier 2</td>\n",
       "      <td>Supermarket Type1</td>\n",
       "      <td>4130.16</td>\n",
       "    </tr>\n",
       "    <tr>\n",
       "      <th>3</th>\n",
       "      <td>FD8233</td>\n",
       "      <td>12.10</td>\n",
       "      <td>Low Sugar</td>\n",
       "      <td>0.112</td>\n",
       "      <td>Baking Goods</td>\n",
       "      <td>186.31</td>\n",
       "      <td>OUT001</td>\n",
       "      <td>1987</td>\n",
       "      <td>High</td>\n",
       "      <td>Tier 2</td>\n",
       "      <td>Supermarket Type1</td>\n",
       "      <td>4132.18</td>\n",
       "    </tr>\n",
       "    <tr>\n",
       "      <th>4</th>\n",
       "      <td>NC1180</td>\n",
       "      <td>9.57</td>\n",
       "      <td>No Sugar</td>\n",
       "      <td>0.010</td>\n",
       "      <td>Health and Hygiene</td>\n",
       "      <td>123.67</td>\n",
       "      <td>OUT002</td>\n",
       "      <td>1998</td>\n",
       "      <td>Small</td>\n",
       "      <td>Tier 3</td>\n",
       "      <td>Food Mart</td>\n",
       "      <td>2279.36</td>\n",
       "    </tr>\n",
       "  </tbody>\n",
       "</table>\n",
       "</div>"
      ],
      "text/plain": [
       "  Product_Id  Product_Weight Product_Sugar_Content  Product_Allocated_Area  \\\n",
       "0     FD6114           12.66             Low Sugar                   0.027   \n",
       "1     FD7839           16.54             Low Sugar                   0.144   \n",
       "2     FD5075           14.28               Regular                   0.031   \n",
       "3     FD8233           12.10             Low Sugar                   0.112   \n",
       "4     NC1180            9.57              No Sugar                   0.010   \n",
       "\n",
       "         Product_Type  Product_MRP Store_Id  Store_Establishment_Year  \\\n",
       "0        Frozen Foods       117.08   OUT004                      2009   \n",
       "1               Dairy       171.43   OUT003                      1999   \n",
       "2              Canned       162.08   OUT001                      1987   \n",
       "3        Baking Goods       186.31   OUT001                      1987   \n",
       "4  Health and Hygiene       123.67   OUT002                      1998   \n",
       "\n",
       "  Store_Size Store_Location_City_Type          Store_Type  \\\n",
       "0     Medium                   Tier 2   Supermarket Type2   \n",
       "1     Medium                   Tier 1  Departmental Store   \n",
       "2       High                   Tier 2   Supermarket Type1   \n",
       "3       High                   Tier 2   Supermarket Type1   \n",
       "4      Small                   Tier 3           Food Mart   \n",
       "\n",
       "   Product_Store_Sales_Total  \n",
       "0                    2842.40  \n",
       "1                    4830.02  \n",
       "2                    4130.16  \n",
       "3                    4132.18  \n",
       "4                    2279.36  "
      ]
     },
     "execution_count": 4,
     "metadata": {},
     "output_type": "execute_result"
    }
   ],
   "source": [
    "# Cell 2: Load data\n",
    "df = pd.read_csv('../data/raw/SuperKart.csv')\n",
    "print(f\"Data shape: {df.shape}\")\n",
    "df.head()"
   ]
  },
  {
   "cell_type": "code",
   "execution_count": 5,
   "id": "be38c266",
   "metadata": {},
   "outputs": [
    {
     "name": "stdout",
     "output_type": "stream",
     "text": [
      "<class 'pandas.core.frame.DataFrame'>\n",
      "RangeIndex: 8763 entries, 0 to 8762\n",
      "Data columns (total 12 columns):\n",
      " #   Column                     Non-Null Count  Dtype  \n",
      "---  ------                     --------------  -----  \n",
      " 0   Product_Id                 8763 non-null   object \n",
      " 1   Product_Weight             8763 non-null   float64\n",
      " 2   Product_Sugar_Content      8763 non-null   object \n",
      " 3   Product_Allocated_Area     8763 non-null   float64\n",
      " 4   Product_Type               8763 non-null   object \n",
      " 5   Product_MRP                8763 non-null   float64\n",
      " 6   Store_Id                   8763 non-null   object \n",
      " 7   Store_Establishment_Year   8763 non-null   int64  \n",
      " 8   Store_Size                 8763 non-null   object \n",
      " 9   Store_Location_City_Type   8763 non-null   object \n",
      " 10  Store_Type                 8763 non-null   object \n",
      " 11  Product_Store_Sales_Total  8763 non-null   float64\n",
      "dtypes: float64(4), int64(1), object(7)\n",
      "memory usage: 821.7+ KB\n"
     ]
    }
   ],
   "source": [
    "# Cell 3: Basic info\n",
    "df.info()"
   ]
  },
  {
   "cell_type": "code",
   "execution_count": 6,
   "id": "0f84c8f6",
   "metadata": {},
   "outputs": [
    {
     "data": {
      "text/plain": [
       "Series([], dtype: int64)"
      ]
     },
     "execution_count": 6,
     "metadata": {},
     "output_type": "execute_result"
    }
   ],
   "source": [
    "# Cell 4: Check missing values\n",
    "missing = df.isnull().sum()\n",
    "missing[missing > 0]"
   ]
  },
  {
   "cell_type": "code",
   "execution_count": 7,
   "id": "afbbfd7a",
   "metadata": {},
   "outputs": [
    {
     "data": {
      "image/png": "[encoded data removed]",
      "text/plain": [
       "<Figure size 1200x400 with 2 Axes>"
      ]
     },
     "metadata": {},
     "output_type": "display_data"
    }
   ],
   "source": [
    "# Cell 5: Target variable distribution\n",
    "plt.figure(figsize=(12, 4))\n",
    "\n",
    "plt.subplot(1, 2, 1)\n",
    "plt.hist(df['Product_Store_Sales_Total'], bins=50, edgecolor='black')\n",
    "plt.title('Sales Distribution')\n",
    "plt.xlabel('Sales')\n",
    "\n",
    "plt.subplot(1, 2, 2)\n",
    "plt.hist(np.log1p(df['Product_Store_Sales_Total']), bins=50, edgecolor='black')\n",
    "plt.title('Log(Sales) Distribution')\n",
    "plt.xlabel('Log(Sales)')\n",
    "plt.show()"
   ]
  }
 ],
 "metadata": {
  "kernelspec": {
   "display_name": "venv",
   "language": "python",
   "name": "python3"
  },
  "language_info": {
   "codemirror_mode": {
    "name": "ipython",
    "version": 3
   },
   "file_extension": ".py",
   "mimetype": "text/x-python",
   "name": "python",
   "nbconvert_exporter": "python",
   "pygments_lexer": "ipython3",
   "version": "3.9.0"
  }
 },
 "nbformat": 4,
 "nbformat_minor": 5
}
